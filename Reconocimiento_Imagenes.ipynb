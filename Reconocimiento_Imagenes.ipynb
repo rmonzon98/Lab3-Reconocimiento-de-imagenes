{
  "nbformat": 4,
  "nbformat_minor": 0,
  "metadata": {
    "colab": {
      "name": "Reconocimiento_Imagenes.ipynb",
      "provenance": [],
      "collapsed_sections": [],
      "toc_visible": true
    },
    "kernelspec": {
      "name": "python3",
      "display_name": "Python 3"
    }
  },
  "cells": [
    {
      "cell_type": "markdown",
      "metadata": {
        "id": "Q3z5EwHmb6DG",
        "colab_type": "text"
      },
      "source": [
        "Universidad del Valle de Guatemala\n",
        "- Marcos Gutierrez  17909\n",
        "- David Valenzuela  171001\n",
        "- Fernando Hengstenberg 17699\n",
        "- Raúl Monzon 17014\n",
        "---\n",
        "# <center> LABORATORIO No. 3 <br> Reconocimiento de Imagenes "
      ]
    },
    {
      "cell_type": "markdown",
      "metadata": {
        "id": "pY1U00boTigo",
        "colab_type": "text"
      },
      "source": [
        "Investigación previa\n",
        "---\n"
      ]
    },
    {
      "cell_type": "markdown",
      "metadata": {
        "id": "ZdDnCfMETluy",
        "colab_type": "text"
      },
      "source": [
        "La retinopatía diabética se diagnostica mejor mediante un examen ocular con la pupila dilatada. Para este examen, las gotas que se colocan en los ojos dilatan (abren más) las pupilas para permitirle al médico ver mejor dentro de los ojos. Las gotas pueden hacer que la visión cercana se torne borrosa hasta que su efecto desaparezca, varias horas después.\n",
        "\n",
        "Si la enfermedad progresa, algunos vasos sanguíneos se cierran, lo que causa la formación, o proliferación, de nuevos vasos sanguíneos en la superficie de la retina. Esta etapa se conoce como la retinopatía diabética proliferativa. Estos vasos sanguíneos anormales pueden causar problemas graves de la vista."
      ]
    },
    {
      "cell_type": "code",
      "metadata": {
        "id": "zoIVa7iQXYD-",
        "colab_type": "code",
        "colab": {
          "base_uri": "https://localhost:8080/",
          "height": 124
        },
        "outputId": "916d4d9c-568e-41be-ed03-da46dec196b8"
      },
      "source": [
        "import pandas as pd\n",
        "import matplotlib.pyplot as plt\n",
        "import matplotlib.image as mpimg\n",
        "import warnings\n",
        "from google.colab import drive\n",
        "drive.mount('/content/drive')\n",
        "warnings.filterwarnings('ignore')"
      ],
      "execution_count": null,
      "outputs": [
        {
          "output_type": "stream",
          "text": [
            "Go to this URL in a browser: https://accounts.google.com/o/oauth2/auth?client_id=947318989803-6bn6qk8qdgf4n4g3pfee6491hc0brc4i.apps.googleusercontent.com&redirect_uri=urn%3aietf%3awg%3aoauth%3a2.0%3aoob&scope=email%20https%3a%2f%2fwww.googleapis.com%2fauth%2fdocs.test%20https%3a%2f%2fwww.googleapis.com%2fauth%2fdrive%20https%3a%2f%2fwww.googleapis.com%2fauth%2fdrive.photos.readonly%20https%3a%2f%2fwww.googleapis.com%2fauth%2fpeopleapi.readonly&response_type=code\n",
            "\n",
            "Enter your authorization code:\n",
            "··········\n",
            "Mounted at /content/drive\n"
          ],
          "name": "stdout"
        }
      ]
    },
    {
      "cell_type": "code",
      "metadata": {
        "id": "Z6VFIR1a238M",
        "colab_type": "code",
        "colab": {
          "base_uri": "https://localhost:8080/",
          "height": 34
        },
        "outputId": "d296f659-95a4-4988-e464-471975cf340e"
      },
      "source": [
        "!ls"
      ],
      "execution_count": null,
      "outputs": [
        {
          "output_type": "stream",
          "text": [
            "drive  sample_data\n"
          ],
          "name": "stdout"
        }
      ]
    },
    {
      "cell_type": "markdown",
      "metadata": {
        "id": "7tcL2VZhh1Wk",
        "colab_type": "text"
      },
      "source": [
        "Importamos los datos con cual vamos a trabajar"
      ]
    },
    {
      "cell_type": "code",
      "metadata": {
        "id": "zZUmlSS3hN_8",
        "colab_type": "code",
        "colab": {}
      },
      "source": [
        "df_train = pd.read_csv(\"train.csv\")\n",
        "df_test = pd.read_csv(\"test.csv\")"
      ],
      "execution_count": null,
      "outputs": []
    },
    {
      "cell_type": "code",
      "metadata": {
        "id": "WJBg8gK9mgcY",
        "colab_type": "code",
        "colab": {
          "base_uri": "https://localhost:8080/",
          "height": 34
        },
        "outputId": "60262828-c297-46cf-8c38-4af8c8d7a0b1"
      },
      "source": [
        "df_train['diagnosis'].unique() #Se obtienen los tipos de niveles que existen"
      ],
      "execution_count": null,
      "outputs": [
        {
          "output_type": "execute_result",
          "data": {
            "text/plain": [
              "array([2, 4, 1, 0, 3])"
            ]
          },
          "metadata": {
            "tags": []
          },
          "execution_count": 37
        }
      ]
    },
    {
      "cell_type": "code",
      "metadata": {
        "id": "5ot6oeeSmyTB",
        "colab_type": "code",
        "colab": {
          "base_uri": "https://localhost:8080/",
          "height": 51
        },
        "outputId": "d65b6169-ffae-4da2-a419-9c1cdc446f9a"
      },
      "source": [
        "df_train['id_code'].unique() #Se obtiene el id de cada imagen que se procesara"
      ],
      "execution_count": null,
      "outputs": [
        {
          "output_type": "execute_result",
          "data": {
            "text/plain": [
              "array(['000c1434d8d7', '001639a390f0', '0024cdab0c1e', ...,\n",
              "       'ffcf7b45f213', 'ffd97f8cd5aa', 'ffec9a18a3ce'], dtype=object)"
            ]
          },
          "metadata": {
            "tags": []
          },
          "execution_count": 38
        }
      ]
    },
    {
      "cell_type": "markdown",
      "metadata": {
        "id": "Vzqu8Tx0iHGD",
        "colab_type": "text"
      },
      "source": [
        "### Analisis Exploratorio"
      ]
    },
    {
      "cell_type": "markdown",
      "metadata": {
        "id": "4zFHITImjGOa",
        "colab_type": "text"
      },
      "source": [
        "Visualización de los datos."
      ]
    },
    {
      "cell_type": "code",
      "metadata": {
        "id": "fi4f15c-jN3o",
        "colab_type": "code",
        "colab": {
          "base_uri": "https://localhost:8080/",
          "height": 425
        },
        "outputId": "84f0c6ad-c9fb-4046-9560-2e5252c73ba3"
      },
      "source": [
        "diagnostic_graph = df_train['diagnosis'].value_counts().plot(kind='bar', figsize = (10, 7))"
      ],
      "execution_count": null,
      "outputs": [
        {
          "output_type": "display_data",
          "data": {
            "image/png": "[encoded data removed]",
            "text/plain": [
              "<Figure size 720x504 with 1 Axes>"
            ]
          },
          "metadata": {
            "tags": [],
            "needs_background": "light"
          }
        }
      ]
    },
    {
      "cell_type": "markdown",
      "metadata": {
        "id": "Hhj5JNASkevt",
        "colab_type": "text"
      },
      "source": [
        "En el eje X se observa los niveles de cada uno de los diagnisticos, y en el eje Y se observa las cantidades de diagnosticos. Los niveles que existen son los siguientes: \n",
        "* 0 = NO DR\n",
        "* 1 = MILD DR\n",
        "* 2 = MODERATE DR\n",
        "* 3 = SEVERE DR\n",
        "* 4 = PROLIFERATIVE DR"
      ]
    },
    {
      "cell_type": "markdown",
      "metadata": {
        "id": "JVVSESFytweD",
        "colab_type": "text"
      },
      "source": [
        "Visualización de las imagenes de pruebas"
      ]
    },
    {
      "cell_type": "code",
      "metadata": {
        "id": "AKwkZPGevSM7",
        "colab_type": "code",
        "colab": {
          "base_uri": "https://localhost:8080/",
          "height": 51
        },
        "outputId": "77eb9a02-ec43-4e14-c80d-4182794b567b"
      },
      "source": [
        "traindata_dir = %cd 'train_images'"
      ],
      "execution_count": null,
      "outputs": [
        {
          "output_type": "stream",
          "text": [
            "[Errno 2] No such file or directory: 'train_images'\n",
            "/content\n"
          ],
          "name": "stdout"
        }
      ]
    },
    {
      "cell_type": "code",
      "metadata": {
        "id": "BxoNMOmsuvmS",
        "colab_type": "code",
        "colab": {
          "base_uri": "https://localhost:8080/",
          "height": 248
        },
        "outputId": "6eb44661-0f53-4955-ca96-fdcf1ae7ea63"
      },
      "source": [
        "plt.figure(figsize=[15,15])\n",
        "i = 1\n",
        "for img_name in df_train['id_code'][:12]:\n",
        "    img = mpimg.imread(traindata_dir + img_name + '.png')\n",
        "    plt.subplot(6,4,i)\n",
        "    plt.imshow(img)\n",
        "    i += 1\n",
        "plt.show()"
      ],
      "execution_count": null,
      "outputs": [
        {
          "output_type": "error",
          "ename": "TypeError",
          "evalue": "ignored",
          "traceback": [
            "\u001b[0;31m---------------------------------------------------------------------------\u001b[0m",
            "\u001b[0;31mTypeError\u001b[0m                                 Traceback (most recent call last)",
            "\u001b[0;32m<ipython-input-9-76de1a8a4fde>\u001b[0m in \u001b[0;36m<module>\u001b[0;34m()\u001b[0m\n\u001b[1;32m      2\u001b[0m \u001b[0mi\u001b[0m \u001b[0;34m=\u001b[0m \u001b[0;36m1\u001b[0m\u001b[0;34m\u001b[0m\u001b[0;34m\u001b[0m\u001b[0m\n\u001b[1;32m      3\u001b[0m \u001b[0;32mfor\u001b[0m \u001b[0mimg_name\u001b[0m \u001b[0;32min\u001b[0m \u001b[0mdf_train\u001b[0m\u001b[0;34m[\u001b[0m\u001b[0;34m'id_code'\u001b[0m\u001b[0;34m]\u001b[0m\u001b[0;34m[\u001b[0m\u001b[0;34m:\u001b[0m\u001b[0;36m12\u001b[0m\u001b[0;34m]\u001b[0m\u001b[0;34m:\u001b[0m\u001b[0;34m\u001b[0m\u001b[0;34m\u001b[0m\u001b[0m\n\u001b[0;32m----> 4\u001b[0;31m     \u001b[0mimg\u001b[0m \u001b[0;34m=\u001b[0m \u001b[0mmpimg\u001b[0m\u001b[0;34m.\u001b[0m\u001b[0mimread\u001b[0m\u001b[0;34m(\u001b[0m\u001b[0mtraindata_dir\u001b[0m \u001b[0;34m+\u001b[0m \u001b[0mimg_name\u001b[0m \u001b[0;34m+\u001b[0m \u001b[0;34m'.png'\u001b[0m\u001b[0;34m)\u001b[0m\u001b[0;34m\u001b[0m\u001b[0;34m\u001b[0m\u001b[0m\n\u001b[0m\u001b[1;32m      5\u001b[0m     \u001b[0mplt\u001b[0m\u001b[0;34m.\u001b[0m\u001b[0msubplot\u001b[0m\u001b[0;34m(\u001b[0m\u001b[0;36m6\u001b[0m\u001b[0;34m,\u001b[0m\u001b[0;36m4\u001b[0m\u001b[0;34m,\u001b[0m\u001b[0mi\u001b[0m\u001b[0;34m)\u001b[0m\u001b[0;34m\u001b[0m\u001b[0;34m\u001b[0m\u001b[0m\n\u001b[1;32m      6\u001b[0m     \u001b[0mplt\u001b[0m\u001b[0;34m.\u001b[0m\u001b[0mimshow\u001b[0m\u001b[0;34m(\u001b[0m\u001b[0mimg\u001b[0m\u001b[0;34m)\u001b[0m\u001b[0;34m\u001b[0m\u001b[0;34m\u001b[0m\u001b[0m\n",
            "\u001b[0;31mTypeError\u001b[0m: unsupported operand type(s) for +: 'NoneType' and 'str'"
          ]
        },
        {
          "output_type": "display_data",
          "data": {
            "text/plain": [
              "<Figure size 1080x1080 with 0 Axes>"
            ]
          },
          "metadata": {
            "tags": []
          }
        }
      ]
    },
    {
      "cell_type": "markdown",
      "metadata": {
        "id": "hDSvvNDhnNFP",
        "colab_type": "text"
      },
      "source": [
        "### Neuronal Network"
      ]
    },
    {
      "cell_type": "code",
      "metadata": {
        "id": "nSZpWJDlkTIB",
        "colab_type": "code",
        "colab": {
          "base_uri": "https://localhost:8080/",
          "height": 34
        },
        "outputId": "2043e810-7340-4c16-bd8b-3260a10ce14a"
      },
      "source": [
        "train_shape = df_train.shape\n",
        "print(train_shape)"
      ],
      "execution_count": null,
      "outputs": [
        {
          "output_type": "stream",
          "text": [
            "(3662, 2)\n"
          ],
          "name": "stdout"
        }
      ]
    },
    {
      "cell_type": "code",
      "metadata": {
        "id": "GUgxjfwQnWbI",
        "colab_type": "code",
        "colab": {}
      },
      "source": [
        ""
      ],
      "execution_count": null,
      "outputs": []
    }
  ]
}